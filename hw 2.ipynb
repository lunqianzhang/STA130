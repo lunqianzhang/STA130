{
 "cells": [
  {
   "cell_type": "code",
   "execution_count": null,
   "id": "8997e70f",
   "metadata": {},
   "outputs": [],
   "source": [
    "# Monte Hall Simulation Code -- not the only way to code this, but it's what Prof. Schwartz came up with...\n",
    "\n",
    "import numpy as np\n",
    "all_door_options = (1,2,3)  # tuple\n",
    "my_door_choice = 1  # 1,2,3\n",
    "i_won = 0\n",
    "reps = 100000\n",
    "for i in range(reps):\n",
    "    secret_winning_door = np.random.choice(all_door_options)\n",
    "    all_door_options_list = list(all_door_options)\n",
    "    # take the secret_winning_door, so we don't show it as a \"goat\" losing door\n",
    "    all_door_options_list.remove(secret_winning_door)\n",
    "    try:\n",
    "        # if my_door_choice was secret_winning_door then it's already removed\n",
    "        all_door_options_list.remove(my_door_choice)\n",
    "    except:\n",
    "        pass\n",
    "    # show a \"goat\" losing door and remove it\n",
    "    goat_door_reveal = np.random.choice(all_door_options_list)\n",
    "    all_door_options_list.remove(goat_door_reveal)\n",
    "\n",
    "    # put the secret_winning_door back in if it wasn't our choice\n",
    "    # we previously removed it, so it would be shown as a  \"goat\" losing door\n",
    "    if secret_winning_door != my_door_choice:\n",
    "        all_door_options_list.append(secret_winning_door)\n",
    "    # if secret_winning_door was our choice then all that's left in the list is a \"goat\" losing door\n",
    "    # if secret_winning_door wasn't our choice then it's all that will be left in the list\n",
    "\n",
    "    # swap strategy\n",
    "    my_door_choice = all_door_options_list[0]\n",
    "\n",
    "    if my_door_choice == secret_winning_door:\n",
    "        i_won += 1\n",
    "\n",
    "i_won/reps"
   ]
  },
  {
   "cell_type": "code",
   "execution_count": null,
   "id": "79cd6da6",
   "metadata": {},
   "outputs": [],
   "source": [
    "The code simulates the Monty Hall problem multiple times to demonstrate that switching doors increases the chances of winning.\n",
    "In the Monty Hall problem, switching doors gives a probability of winning of 2/3, while staying gives a probability of 1/3."
   ]
  },
  {
   "cell_type": "code",
   "execution_count": 1,
   "id": "16ad2d65",
   "metadata": {},
   "outputs": [
    {
     "data": {
      "text/plain": [
       "0.6657"
      ]
     },
     "execution_count": 1,
     "metadata": {},
     "output_type": "execute_result"
    }
   ],
   "source": [
    "import numpy as np\n",
    "\n",
    "# Parameters\n",
    "num_simulations = 100000\n",
    "initial_choice = 1  # Player always starts by choosing door 1\n",
    "wins_with_switch = 0\n",
    "\n",
    "# Simulation loop\n",
    "for _ in range(num_simulations):\n",
    "    # Randomly select the door with the prize behind it\n",
    "    winning_door = np.random.choice([1, 2, 3])\n",
    "    \n",
    "    # Host reveals a non-winning door that's not the player's initial choice\n",
    "    available_doors = [door for door in [1, 2, 3] if door != winning_door and door != initial_choice]\n",
    "    revealed_door = np.random.choice(available_doors)\n",
    "    \n",
    "    # The door left after the player switches\n",
    "    remaining_door = [door for door in [1, 2, 3] if door != initial_choice and door != revealed_door][0]\n",
    "    \n",
    "    # Check if switching wins\n",
    "    if remaining_door == winning_door:\n",
    "        wins_with_switch += 1\n",
    "\n",
    "# Probability of winning by switching\n",
    "win_probability = wins_with_switch / num_simulations\n",
    "win_probability\n"
   ]
  },
  {
   "cell_type": "code",
   "execution_count": 2,
   "id": "226686d0",
   "metadata": {},
   "outputs": [
    {
     "data": {
      "text/plain": [
       "0.66552"
      ]
     },
     "execution_count": 2,
     "metadata": {},
     "output_type": "execute_result"
    }
   ],
   "source": [
    "import numpy as np  # Import the NumPy library for random number generation\n",
    "\n",
    "# Parameters\n",
    "num_simulations = 100000  # Total number of times the simulation will be run\n",
    "initial_choice = 1  # Player's initial door choice\n",
    "wins_with_switch = 0  # Counter for wins when player switches doors\n",
    "\n",
    "# Simulation loop\n",
    "for _ in range(num_simulations):  # Repeat the simulation num_simulations times\n",
    "    # Randomly select the door that has the prize\n",
    "    winning_door = np.random.choice([1, 2, 3])\n",
    "    \n",
    "    # Determine doors that can be revealed by the host (not the prize and not the initial choice)\n",
    "    available_doors = [door for door in [1, 2, 3] if door != winning_door and door != initial_choice]\n",
    "    \n",
    "    # Host reveals a door with a goat\n",
    "    revealed_door = np.random.choice(available_doors)\n",
    "    \n",
    "    # Determine the remaining door after switching\n",
    "    remaining_door = [door for door in [1, 2, 3] if door != initial_choice and door != revealed_door][0]\n",
    "    \n",
    "    # Check if switching wins\n",
    "    if remaining_door == winning_door:\n",
    "        wins_with_switch += 1  # Increment win count if switching leads to a win\n",
    "\n",
    "# Calculate the probability of winning by switching\n",
    "win_probability = wins_with_switch / num_simulations\n",
    "win_probability  # Output the probability of winning when switching\n"
   ]
  },
  {
   "cell_type": "code",
   "execution_count": null,
   "id": "053044d1",
   "metadata": {},
   "outputs": [],
   "source": [
    "# Markovian Chatbot\n",
    "\n",
    "# from collections import defaultdict\n",
    "word_used = dict() # defaultdict(int)\n",
    "next_word = dict() # defaultdict(lambda: defaultdict(int))\n",
    "for i,word in enumerate(words[:-1]):\n",
    "\n",
    "    if word in word_used:\n",
    "        word_used[word] += 1\n",
    "    else:\n",
    "        word_used[word] = 1\n",
    "        next_word[word] = {}\n",
    "\n",
    "    if words[i+1] in next_word[word]:\n",
    "        next_word[word][words[i+1]] += 1\n",
    "    else:\n",
    "        next_word[word][words[i+1]] = 1"
   ]
  },
  {
   "cell_type": "code",
   "execution_count": null,
   "id": "cfe4a3a9",
   "metadata": {},
   "outputs": [],
   "source": [
    "# Markovian Chatbot Extension #1\n",
    "\n",
    "word_used2 = defaultdict(int)\n",
    "next_word2 = defaultdict(lambda: defaultdict(int))\n",
    "for i,word in enumerate(words[:-2]):\n",
    "    word_used2[word+' '+words[i+1]] += 1\n",
    "    next_word2[word+' '+words[i+1]][words[i+2]] += 1 "
   ]
  },
  {
   "cell_type": "code",
   "execution_count": null,
   "id": "30773b9e",
   "metadata": {},
   "outputs": [],
   "source": [
    "# Markovian Chatbot Extension #2\n",
    "\n",
    "from collections import Counter, defaultdict\n",
    "# `avatar` is a dataset, and `character` is one of it's columns\n",
    "characters = Counter(\"\\n\"+ avatar.character.str.upper().str.replace(' ','.')+\":\")\n",
    "# this code changes the type of the `character` column to `str`; then,\n",
    "# makes the text uppercase, and replaces spaces with '.'\n",
    "\n",
    "nested_dict = lambda: defaultdict(nested_dict)\n",
    "word_used2C = nested_dict()\n",
    "next_word2C = nested_dict()\n",
    "\n",
    "for i,word in enumerate(words[:-2]):\n",
    "    if word in characters:\n",
    "        character = word\n",
    "        \n",
    "    if character not in word_used2C:\n",
    "        word_used2C[character] = dict()\n",
    "    if word+' '+words[i+1] not in word_used2C[character]:\n",
    "        word_used2C[character][word+' '+words[i+1]] = 0\n",
    "    word_used2C[character][word+' '+words[i+1]] += 1\n",
    "    \n",
    "    if character not in next_word2C:\n",
    "        next_word2C[character] = dict()\n",
    "    if word+' '+words[i+1] not in next_word2C[character]:\n",
    "        next_word2C[character][word+' '+words[i+1]] = dict()\n",
    "    if words[i+2] not in next_word2C[character][word+' '+words[i+1]]:\n",
    "        next_word2C[character][word+' '+words[i+1]][words[i+2]] = 0\n",
    "    next_word2C[character][word+' '+words[i+1]][words[i+2]] += 1"
   ]
  },
  {
   "cell_type": "code",
   "execution_count": null,
   "id": "e4e9fbe2",
   "metadata": {},
   "outputs": [],
   "source": [
    "#First Snippet: Models word-to-word transitions (first-order Markov).\n",
    "#Second Snippet: Models bigram-to-word transitions (second-order Markov).\n",
    "#Third Snippet: Models bigram-to-word transitions separately for each character, identified in the text.\n",
    "#Link to https://chatgpt.com/share/66ecbb46-96a0-800a-9644-b441bb399444"
   ]
  },
  {
   "cell_type": "code",
   "execution_count": null,
   "id": "0f68ac1f",
   "metadata": {},
   "outputs": [],
   "source": [
    "#Link to https://chatgpt.com/share/66ecbcce-35bc-800a-a582-c8f1e295d636"
   ]
  },
  {
   "cell_type": "code",
   "execution_count": null,
   "id": "38e63b79",
   "metadata": {},
   "outputs": [],
   "source": [
    "#The Mounthall problem is a probability problem in which participants choose one of three doors, and the moderator then opens an unselected door to show a goat. Participants can choose to change the selection or keep the original selection. In theory, changing the choice increases the probability of winning the car from 1/3 to 2/3. Talking to the Chatbot, you can verify this theoretical result by writing simulation code and running many rounds of tests. Chatbot can help explain the probabilistic background of the Mounthall problem. Simulation code examples are provided, and the relationship between simulation results and theoretical solutions is analyzed."
   ]
  },
  {
   "cell_type": "code",
   "execution_count": null,
   "id": "5a4f6f52",
   "metadata": {},
   "outputs": [],
   "source": [
    "#In the fields of coding, statistics, and data science, artificial intelligence-driven auxiliary tools have significantly improved work efficiency and lowered technical barriers to entry. These tools greatly simplify complex tasks by providing intelligent code suggestions, automating data cleaning and visualization, optimizing statistical models, and simplifying the development process of machine learning models, allowing users to focus more on problem solving rather than technical details. As technology continues to advance, these AI tools will continue to promote the development of various fields, making processing data and programming more efficient and automated."
   ]
  },
  {
   "cell_type": "code",
   "execution_count": null,
   "id": "5c3f0c85",
   "metadata": {},
   "outputs": [],
   "source": [
    "#Link to https://chatgpt.com/share/66ecbfc2-e648-800a-ad60-263fa174ff67"
   ]
  },
  {
   "cell_type": "code",
   "execution_count": null,
   "id": "0f10d023",
   "metadata": {},
   "outputs": [],
   "source": [
    "#yes"
   ]
  },
  {
   "cell_type": "code",
   "execution_count": null,
   "id": "d835ef3e",
   "metadata": {},
   "outputs": [],
   "source": []
  },
  {
   "cell_type": "code",
   "execution_count": null,
   "id": "435be728",
   "metadata": {},
   "outputs": [],
   "source": []
  },
  {
   "cell_type": "code",
   "execution_count": null,
   "id": "8f46f5f8",
   "metadata": {},
   "outputs": [],
   "source": []
  },
  {
   "cell_type": "code",
   "execution_count": null,
   "id": "b982dfe2",
   "metadata": {},
   "outputs": [],
   "source": []
  },
  {
   "cell_type": "code",
   "execution_count": null,
   "id": "8e451dd7",
   "metadata": {},
   "outputs": [],
   "source": []
  },
  {
   "cell_type": "code",
   "execution_count": null,
   "id": "90a64f3d",
   "metadata": {},
   "outputs": [],
   "source": []
  },
  {
   "cell_type": "code",
   "execution_count": null,
   "id": "b6b6fcc2",
   "metadata": {},
   "outputs": [],
   "source": []
  },
  {
   "cell_type": "code",
   "execution_count": null,
   "id": "23c2678c",
   "metadata": {},
   "outputs": [],
   "source": []
  },
  {
   "cell_type": "code",
   "execution_count": null,
   "id": "e9469004",
   "metadata": {},
   "outputs": [],
   "source": []
  },
  {
   "cell_type": "code",
   "execution_count": null,
   "id": "c184c7cd",
   "metadata": {},
   "outputs": [],
   "source": []
  },
  {
   "cell_type": "code",
   "execution_count": null,
   "id": "75bb0ca6",
   "metadata": {},
   "outputs": [],
   "source": []
  },
  {
   "cell_type": "code",
   "execution_count": null,
   "id": "df59ed7c",
   "metadata": {},
   "outputs": [],
   "source": []
  },
  {
   "cell_type": "code",
   "execution_count": null,
   "id": "c3eb974e",
   "metadata": {},
   "outputs": [],
   "source": []
  },
  {
   "cell_type": "code",
   "execution_count": null,
   "id": "79fc87c5",
   "metadata": {},
   "outputs": [],
   "source": []
  },
  {
   "cell_type": "code",
   "execution_count": null,
   "id": "74bf49d0",
   "metadata": {},
   "outputs": [],
   "source": []
  },
  {
   "cell_type": "code",
   "execution_count": null,
   "id": "540d1515",
   "metadata": {},
   "outputs": [],
   "source": []
  },
  {
   "cell_type": "code",
   "execution_count": null,
   "id": "5de5df07",
   "metadata": {},
   "outputs": [],
   "source": []
  },
  {
   "cell_type": "code",
   "execution_count": null,
   "id": "c32223d4",
   "metadata": {},
   "outputs": [],
   "source": []
  },
  {
   "cell_type": "code",
   "execution_count": null,
   "id": "27005202",
   "metadata": {},
   "outputs": [],
   "source": []
  },
  {
   "cell_type": "code",
   "execution_count": null,
   "id": "e4bae3f3",
   "metadata": {},
   "outputs": [],
   "source": []
  },
  {
   "cell_type": "code",
   "execution_count": null,
   "id": "13e863c3",
   "metadata": {},
   "outputs": [],
   "source": []
  }
 ],
 "metadata": {
  "kernelspec": {
   "display_name": "Python 3 (ipykernel)",
   "language": "python",
   "name": "python3"
  },
  "language_info": {
   "codemirror_mode": {
    "name": "ipython",
    "version": 3
   },
   "file_extension": ".py",
   "mimetype": "text/x-python",
   "name": "python",
   "nbconvert_exporter": "python",
   "pygments_lexer": "ipython3",
   "version": "3.11.6"
  }
 },
 "nbformat": 4,
 "nbformat_minor": 5
}
